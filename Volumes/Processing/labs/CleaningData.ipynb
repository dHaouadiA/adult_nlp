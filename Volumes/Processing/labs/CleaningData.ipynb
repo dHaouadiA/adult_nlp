{
 "cells": [
  {
   "cell_type": "code",
   "execution_count": 127,
   "metadata": {},
   "outputs": [],
   "source": [
    "import pandas as pd\n",
    "import numpy as np"
   ]
  },
  {
   "cell_type": "code",
   "execution_count": 4,
   "metadata": {},
   "outputs": [],
   "source": [
    "urlclassification=pd.read_csv(r'C:\\Users\\Asma\\Desktop\\internship\\mycode\\Volumes\\Processing\\URL Classification.csv', header=None)"
   ]
  },
  {
   "cell_type": "code",
   "execution_count": 5,
   "metadata": {},
   "outputs": [
    {
     "name": "stdout",
     "output_type": "stream",
     "text": [
      "<class 'pandas.core.frame.DataFrame'>\n",
      "RangeIndex: 1562978 entries, 0 to 1562977\n",
      "Data columns (total 3 columns):\n",
      "0    1562978 non-null int64\n",
      "1    1562975 non-null object\n",
      "2    1562978 non-null object\n",
      "dtypes: int64(1), object(2)\n",
      "memory usage: 35.8+ MB\n"
     ]
    }
   ],
   "source": [
    "urlclassification.info()"
   ]
  },
  {
   "cell_type": "code",
   "execution_count": 6,
   "metadata": {},
   "outputs": [
    {
     "data": {
      "text/plain": [
       "(1562978, 3)"
      ]
     },
     "execution_count": 6,
     "metadata": {},
     "output_type": "execute_result"
    }
   ],
   "source": [
    "urlclassification.shape"
   ]
  },
  {
   "cell_type": "code",
   "execution_count": 7,
   "metadata": {},
   "outputs": [],
   "source": [
    "#drop index column (column number 0)\n",
    "urlclassification.drop(urlclassification.columns[0], axis=1, inplace=True)"
   ]
  },
  {
   "cell_type": "code",
   "execution_count": 8,
   "metadata": {},
   "outputs": [],
   "source": [
    "# add column names\n",
    "col_Names=[\"url\", \"label\"]\n",
    "urlclassification=pd.read_csv(r'C:\\Users\\Asma\\Desktop\\internship\\mycode\\Volumes\\Processing\\URL Classification.csv',header=None, names=col_Names)"
   ]
  },
  {
   "cell_type": "code",
   "execution_count": 9,
   "metadata": {},
   "outputs": [
    {
     "name": "stdout",
     "output_type": "stream",
     "text": [
      "<class 'pandas.core.frame.DataFrame'>\n",
      "Int64Index: 1562978 entries, 1 to 1562978\n",
      "Data columns (total 2 columns):\n",
      "url      1562975 non-null object\n",
      "label    1562978 non-null object\n",
      "dtypes: object(2)\n",
      "memory usage: 35.8+ MB\n"
     ]
    }
   ],
   "source": [
    "urlclassification.info()"
   ]
  },
  {
   "cell_type": "code",
   "execution_count": 10,
   "metadata": {},
   "outputs": [
    {
     "data": {
      "text/html": [
       "<div>\n",
       "<style scoped>\n",
       "    .dataframe tbody tr th:only-of-type {\n",
       "        vertical-align: middle;\n",
       "    }\n",
       "\n",
       "    .dataframe tbody tr th {\n",
       "        vertical-align: top;\n",
       "    }\n",
       "\n",
       "    .dataframe thead th {\n",
       "        text-align: right;\n",
       "    }\n",
       "</style>\n",
       "<table border=\"1\" class=\"dataframe\">\n",
       "  <thead>\n",
       "    <tr style=\"text-align: right;\">\n",
       "      <th></th>\n",
       "      <th>url</th>\n",
       "      <th>label</th>\n",
       "    </tr>\n",
       "  </thead>\n",
       "  <tbody>\n",
       "    <tr>\n",
       "      <th>1</th>\n",
       "      <td>http://www.liquidgeneration.com/</td>\n",
       "      <td>Adult</td>\n",
       "    </tr>\n",
       "    <tr>\n",
       "      <th>2</th>\n",
       "      <td>http://www.onlineanime.org/</td>\n",
       "      <td>Adult</td>\n",
       "    </tr>\n",
       "    <tr>\n",
       "      <th>3</th>\n",
       "      <td>http://www.ceres.dti.ne.jp/~nekoi/senno/senfir...</td>\n",
       "      <td>Adult</td>\n",
       "    </tr>\n",
       "  </tbody>\n",
       "</table>\n",
       "</div>"
      ],
      "text/plain": [
       "                                                 url  label\n",
       "1                   http://www.liquidgeneration.com/  Adult\n",
       "2                        http://www.onlineanime.org/  Adult\n",
       "3  http://www.ceres.dti.ne.jp/~nekoi/senno/senfir...  Adult"
      ]
     },
     "execution_count": 10,
     "metadata": {},
     "output_type": "execute_result"
    }
   ],
   "source": [
    "urlclassification.head(3)"
   ]
  },
  {
   "cell_type": "code",
   "execution_count": 11,
   "metadata": {},
   "outputs": [],
   "source": [
    "urlclassification.dropna(inplace=True)"
   ]
  },
  {
   "cell_type": "code",
   "execution_count": 12,
   "metadata": {},
   "outputs": [],
   "source": [
    "urlclassification.drop_duplicates(inplace=True)"
   ]
  },
  {
   "cell_type": "code",
   "execution_count": 13,
   "metadata": {},
   "outputs": [
    {
     "name": "stdout",
     "output_type": "stream",
     "text": [
      "<class 'pandas.core.frame.DataFrame'>\n",
      "Int64Index: 1540482 entries, 1 to 1562978\n",
      "Data columns (total 2 columns):\n",
      "url      1540482 non-null object\n",
      "label    1540482 non-null object\n",
      "dtypes: object(2)\n",
      "memory usage: 35.3+ MB\n"
     ]
    }
   ],
   "source": [
    "urlclassification.info()"
   ]
  },
  {
   "cell_type": "code",
   "execution_count": 14,
   "metadata": {},
   "outputs": [
    {
     "data": {
      "text/plain": [
       "(1540482, 2)"
      ]
     },
     "execution_count": 14,
     "metadata": {},
     "output_type": "execute_result"
    }
   ],
   "source": [
    "urlclassification.shape"
   ]
  },
  {
   "cell_type": "code",
   "execution_count": 15,
   "metadata": {},
   "outputs": [],
   "source": [
    "# extract eglish urls (specially .com cause we are certain that they are in english)\n",
    "urlclassification=urlclassification[urlclassification['url'].str.contains('.com')]"
   ]
  },
  {
   "cell_type": "code",
   "execution_count": 16,
   "metadata": {},
   "outputs": [
    {
     "data": {
      "text/plain": [
       "(973232, 2)"
      ]
     },
     "execution_count": 16,
     "metadata": {},
     "output_type": "execute_result"
    }
   ],
   "source": [
    "urlclassification.shape"
   ]
  },
  {
   "cell_type": "code",
   "execution_count": 17,
   "metadata": {},
   "outputs": [
    {
     "data": {
      "text/plain": [
       "Business      187484\n",
       "Arts          184532\n",
       "Society       109366\n",
       "Shopping       82556\n",
       "Computers      73725\n",
       "Recreation     69871\n",
       "Sports         65689\n",
       "Games          45586\n",
       "Science        34819\n",
       "Health         32176\n",
       "Adult          25690\n",
       "Kids           21334\n",
       "Home           20633\n",
       "Reference      13219\n",
       "News            6552\n",
       "Name: label, dtype: int64"
      ]
     },
     "execution_count": 17,
     "metadata": {},
     "output_type": "execute_result"
    }
   ],
   "source": [
    "#we compare here the classes \n",
    "urlclassification.label.value_counts()"
   ]
  },
  {
   "cell_type": "code",
   "execution_count": 18,
   "metadata": {},
   "outputs": [],
   "source": [
    "#store the data into csv file\n",
    "urlclassification.to_csv('urlclassification_EnglishSites.csv', index=False)"
   ]
  },
  {
   "cell_type": "code",
   "execution_count": 19,
   "metadata": {},
   "outputs": [],
   "source": [
    "urlclassification=pd.read_csv(r'urlclassification_EnglishSites.csv')"
   ]
  },
  {
   "cell_type": "code",
   "execution_count": 20,
   "metadata": {},
   "outputs": [
    {
     "name": "stdout",
     "output_type": "stream",
     "text": [
      "<class 'pandas.core.frame.DataFrame'>\n",
      "RangeIndex: 973232 entries, 0 to 973231\n",
      "Data columns (total 2 columns):\n",
      "url      973232 non-null object\n",
      "label    973232 non-null object\n",
      "dtypes: object(2)\n",
      "memory usage: 14.9+ MB\n"
     ]
    }
   ],
   "source": [
    "urlclassification.info()"
   ]
  },
  {
   "cell_type": "code",
   "execution_count": 21,
   "metadata": {},
   "outputs": [
    {
     "data": {
      "text/plain": [
       "(973232, 2)"
      ]
     },
     "execution_count": 21,
     "metadata": {},
     "output_type": "execute_result"
    }
   ],
   "source": [
    "urlclassification.shape"
   ]
  },
  {
   "cell_type": "code",
   "execution_count": 22,
   "metadata": {},
   "outputs": [],
   "source": [
    "#concatenate 'urlclassification_EnglishSites.csv' with 'ScrapingDB.csv'\n",
    "urlclassification=pd.read_csv('urlclassification_EnglishSites.csv')\n",
    "scrapingDb=pd.read_csv('ScrapingDB.csv')\n",
    "#we have to concat ADULT site from scraping DB with Adutl site in urlclassification\n",
    "dataconcatenation=pd.concat([urlclassification,scrapingDb])"
   ]
  },
  {
   "cell_type": "code",
   "execution_count": 23,
   "metadata": {},
   "outputs": [
    {
     "name": "stdout",
     "output_type": "stream",
     "text": [
      "<class 'pandas.core.frame.DataFrame'>\n",
      "Int64Index: 973450 entries, 0 to 217\n",
      "Data columns (total 2 columns):\n",
      "url      973450 non-null object\n",
      "label    973450 non-null object\n",
      "dtypes: object(2)\n",
      "memory usage: 22.3+ MB\n"
     ]
    }
   ],
   "source": [
    "dataconcatenation.info()"
   ]
  },
  {
   "cell_type": "code",
   "execution_count": 24,
   "metadata": {},
   "outputs": [
    {
     "data": {
      "text/plain": [
       "Business      187484\n",
       "Arts          184532\n",
       "Society       109366\n",
       "Shopping       82556\n",
       "Computers      73725\n",
       "Recreation     69871\n",
       "Sports         65689\n",
       "Games          45586\n",
       "Science        34819\n",
       "Health         32176\n",
       "Adult          25908\n",
       "Kids           21334\n",
       "Home           20633\n",
       "Reference      13219\n",
       "News            6552\n",
       "Name: label, dtype: int64"
      ]
     },
     "execution_count": 24,
     "metadata": {},
     "output_type": "execute_result"
    }
   ],
   "source": [
    "dataconcatenation.label.value_counts()"
   ]
  },
  {
   "cell_type": "code",
   "execution_count": 25,
   "metadata": {},
   "outputs": [],
   "source": [
    "# we gonna take 500 sites from every topic except Adult=7000\n",
    "for i,j in dataconcatenation['label'].value_counts().iteritems():\n",
    "    if(j>500) and i!='Adult':\n",
    "        df_auxiliaire=dataconcatenation[dataconcatenation['label']==i]\n",
    "        dataconcatenation=dataconcatenation[dataconcatenation['label']!=i]\n",
    "        dataconcatenation=pd.concat([df_auxiliaire.iloc[:500,:],dataconcatenation])\n",
    "    if(j>7000) and i== 'Adult':\n",
    "        df_auxiliaire=dataconcatenation[dataconcatenation['label']==i]\n",
    "        dataconcatenation=dataconcatenation[dataconcatenation['label']!=i]\n",
    "        dataconcatenation=pd.concat([df_auxiliaire.iloc[:7000,:],dataconcatenation])"
   ]
  },
  {
   "cell_type": "code",
   "execution_count": 236,
   "metadata": {},
   "outputs": [
    {
     "data": {
      "text/plain": [
       "Adult         7000\n",
       "Recreation     500\n",
       "Arts           500\n",
       "Games          500\n",
       "News           500\n",
       "Business       500\n",
       "Reference      500\n",
       "Home           500\n",
       "Shopping       500\n",
       "Kids           500\n",
       "Computers      500\n",
       "Sports         500\n",
       "Science        500\n",
       "Society        500\n",
       "Health         500\n",
       "Name: label, dtype: int64"
      ]
     },
     "execution_count": 236,
     "metadata": {},
     "output_type": "execute_result"
    }
   ],
   "source": [
    "dataconcatenation.label.value_counts()"
   ]
  },
  {
   "cell_type": "code",
   "execution_count": 237,
   "metadata": {},
   "outputs": [],
   "source": [
    "#store the data into csv file\n",
    "dataconcatenation.to_csv('db_URL.csv', index=False)"
   ]
  },
  {
   "cell_type": "code",
   "execution_count": 238,
   "metadata": {},
   "outputs": [
    {
     "name": "stdout",
     "output_type": "stream",
     "text": [
      "<class 'pandas.core.frame.DataFrame'>\n",
      "Int64Index: 14000 entries, 0 to 210721\n",
      "Data columns (total 2 columns):\n",
      "url      14000 non-null object\n",
      "label    14000 non-null object\n",
      "dtypes: object(2)\n",
      "memory usage: 328.1+ KB\n"
     ]
    }
   ],
   "source": [
    "dataconcatenation.info()"
   ]
  },
  {
   "cell_type": "code",
   "execution_count": 241,
   "metadata": {},
   "outputs": [
    {
     "data": {
      "text/plain": [
       "7.777777777777778"
      ]
     },
     "execution_count": 241,
     "metadata": {},
     "output_type": "execute_result"
    }
   ],
   "source": [
    "#nombre d'heures estimé pr scraper les contenus des URL\n",
    "(14000*2)/3600 "
   ]
  },
  {
   "cell_type": "code",
   "execution_count": 26,
   "metadata": {},
   "outputs": [],
   "source": [
    "dataconcatenation=pd.read_csv(r'db_URL.csv')"
   ]
  },
  {
   "cell_type": "code",
   "execution_count": 27,
   "metadata": {},
   "outputs": [
    {
     "data": {
      "text/html": [
       "<div>\n",
       "<style scoped>\n",
       "    .dataframe tbody tr th:only-of-type {\n",
       "        vertical-align: middle;\n",
       "    }\n",
       "\n",
       "    .dataframe tbody tr th {\n",
       "        vertical-align: top;\n",
       "    }\n",
       "\n",
       "    .dataframe thead th {\n",
       "        text-align: right;\n",
       "    }\n",
       "</style>\n",
       "<table border=\"1\" class=\"dataframe\">\n",
       "  <thead>\n",
       "    <tr style=\"text-align: right;\">\n",
       "      <th></th>\n",
       "      <th>url</th>\n",
       "      <th>label</th>\n",
       "    </tr>\n",
       "  </thead>\n",
       "  <tbody>\n",
       "    <tr>\n",
       "      <th>0</th>\n",
       "      <td>http://news.google.com/</td>\n",
       "      <td>News</td>\n",
       "    </tr>\n",
       "    <tr>\n",
       "      <th>1</th>\n",
       "      <td>http://abcnews.go.com/</td>\n",
       "      <td>News</td>\n",
       "    </tr>\n",
       "    <tr>\n",
       "      <th>2</th>\n",
       "      <td>http://www.nytimes.com/</td>\n",
       "      <td>News</td>\n",
       "    </tr>\n",
       "    <tr>\n",
       "      <th>3</th>\n",
       "      <td>http://www.cnn.com/</td>\n",
       "      <td>News</td>\n",
       "    </tr>\n",
       "    <tr>\n",
       "      <th>4</th>\n",
       "      <td>http://www.cbsnews.com/</td>\n",
       "      <td>News</td>\n",
       "    </tr>\n",
       "    <tr>\n",
       "      <th>5</th>\n",
       "      <td>http://www.newsinpictures.com/</td>\n",
       "      <td>News</td>\n",
       "    </tr>\n",
       "    <tr>\n",
       "      <th>6</th>\n",
       "      <td>http://www.foxnews.com/</td>\n",
       "      <td>News</td>\n",
       "    </tr>\n",
       "    <tr>\n",
       "      <th>7</th>\n",
       "      <td>http://www.msnbc.msn.com/</td>\n",
       "      <td>News</td>\n",
       "    </tr>\n",
       "    <tr>\n",
       "      <th>8</th>\n",
       "      <td>http://www.reuters.com/</td>\n",
       "      <td>News</td>\n",
       "    </tr>\n",
       "    <tr>\n",
       "      <th>9</th>\n",
       "      <td>http://www.wnnetwork.com/</td>\n",
       "      <td>News</td>\n",
       "    </tr>\n",
       "  </tbody>\n",
       "</table>\n",
       "</div>"
      ],
      "text/plain": [
       "                              url label\n",
       "0         http://news.google.com/  News\n",
       "1          http://abcnews.go.com/  News\n",
       "2         http://www.nytimes.com/  News\n",
       "3             http://www.cnn.com/  News\n",
       "4         http://www.cbsnews.com/  News\n",
       "5  http://www.newsinpictures.com/  News\n",
       "6         http://www.foxnews.com/  News\n",
       "7       http://www.msnbc.msn.com/  News\n",
       "8         http://www.reuters.com/  News\n",
       "9       http://www.wnnetwork.com/  News"
      ]
     },
     "execution_count": 27,
     "metadata": {},
     "output_type": "execute_result"
    }
   ],
   "source": [
    "dataconcatenation.head(10)"
   ]
  },
  {
   "cell_type": "code",
   "execution_count": 243,
   "metadata": {},
   "outputs": [
    {
     "name": "stdout",
     "output_type": "stream",
     "text": [
      "<class 'pandas.core.frame.DataFrame'>\n",
      "RangeIndex: 14000 entries, 0 to 13999\n",
      "Data columns (total 2 columns):\n",
      "url      14000 non-null object\n",
      "label    14000 non-null object\n",
      "dtypes: object(2)\n",
      "memory usage: 218.8+ KB\n"
     ]
    }
   ],
   "source": [
    "dataconcatenation.info()"
   ]
  },
  {
   "cell_type": "code",
   "execution_count": 28,
   "metadata": {},
   "outputs": [
    {
     "data": {
      "text/plain": [
       "(14000, 2)"
      ]
     },
     "execution_count": 28,
     "metadata": {},
     "output_type": "execute_result"
    }
   ],
   "source": [
    "dataconcatenation.shape"
   ]
  },
  {
   "cell_type": "code",
   "execution_count": 248,
   "metadata": {},
   "outputs": [
    {
     "data": {
      "text/plain": [
       "868.3211111111111"
      ]
     },
     "execution_count": 248,
     "metadata": {},
     "output_type": "execute_result"
    }
   ],
   "source": [
    "(1562978*2)/3600"
   ]
  },
  {
   "cell_type": "code",
   "execution_count": 250,
   "metadata": {},
   "outputs": [
    {
     "data": {
      "text/plain": [
       "7000"
      ]
     },
     "execution_count": 250,
     "metadata": {},
     "output_type": "execute_result"
    }
   ],
   "source": [
    "500*14"
   ]
  },
  {
   "cell_type": "code",
   "execution_count": 1,
   "metadata": {},
   "outputs": [],
   "source": []
  },
  {
   "cell_type": "code",
   "execution_count": null,
   "metadata": {},
   "outputs": [],
   "source": []
  },
  {
   "cell_type": "code",
   "execution_count": 49,
   "metadata": {},
   "outputs": [],
   "source": [
    "import pandas as pd"
   ]
  },
  {
   "cell_type": "code",
   "execution_count": 92,
   "metadata": {},
   "outputs": [],
   "source": [
    "corpusfromwebsite=pd.read_csv(r'C:\\Users\\Asma\\Desktop\\internship\\mycode\\Volumes\\Processing\\CorpusFromWebSite.csv')"
   ]
  },
  {
   "cell_type": "code",
   "execution_count": 93,
   "metadata": {},
   "outputs": [
    {
     "data": {
      "text/plain": [
       "Adult         2764\n",
       "Recreation     367\n",
       "Shopping       366\n",
       "Business       363\n",
       "Health         340\n",
       "Home           324\n",
       "Science        309\n",
       "Computers      307\n",
       "Society        305\n",
       "News           295\n",
       "Reference      281\n",
       "Kids           275\n",
       "Sports         274\n",
       "Arts           249\n",
       "Games          149\n",
       "Name: label, dtype: int64"
      ]
     },
     "execution_count": 93,
     "metadata": {},
     "output_type": "execute_result"
    }
   ],
   "source": [
    "corpusfromwebsite.label.value_counts()"
   ]
  },
  {
   "cell_type": "code",
   "execution_count": 94,
   "metadata": {},
   "outputs": [],
   "source": [
    "#reduce non-adult sites\n",
    "for i,j in corpusfromwebsite['label'].value_counts().iteritems():\n",
    "    if(j>200) and i!='Adult':\n",
    "        df_auxiliaire=corpusfromwebsite[corpusfromwebsite['label']==i]\n",
    "        corpusfromwebsite=corpusfromwebsite[corpusfromwebsite['label']!=i]\n",
    "        corpusfromwebsite=pd.concat([df_auxiliaire.iloc[:201,:],corpusfromwebsite])"
   ]
  },
  {
   "cell_type": "code",
   "execution_count": 95,
   "metadata": {},
   "outputs": [
    {
     "data": {
      "text/plain": [
       "Adult         2764\n",
       "Reference      201\n",
       "Arts           201\n",
       "Society        201\n",
       "Sports         201\n",
       "News           201\n",
       "Recreation     201\n",
       "Science        201\n",
       "Computers      201\n",
       "Health         201\n",
       "Home           201\n",
       "Kids           201\n",
       "Shopping       201\n",
       "Business       201\n",
       "Games          149\n",
       "Name: label, dtype: int64"
      ]
     },
     "execution_count": 95,
     "metadata": {},
     "output_type": "execute_result"
    }
   ],
   "source": [
    "# 197*12+249+149\n",
    "corpusfromwebsite.label.value_counts()"
   ]
  },
  {
   "cell_type": "code",
   "execution_count": 100,
   "metadata": {},
   "outputs": [
    {
     "data": {
      "text/plain": [
       "5526"
      ]
     },
     "execution_count": 100,
     "metadata": {},
     "output_type": "execute_result"
    }
   ],
   "source": [
    "201*13+149+2764"
   ]
  },
  {
   "cell_type": "code",
   "execution_count": 117,
   "metadata": {},
   "outputs": [],
   "source": [
    "corpusfromwebsite.to_csv('corpusfromwebsiteCleaned.csv', index=False)"
   ]
  },
  {
   "cell_type": "code",
   "execution_count": 128,
   "metadata": {},
   "outputs": [],
   "source": [
    "df_cleaned=pd.read_csv(r'corpusfromwebsiteCleaned.csv')"
   ]
  },
  {
   "cell_type": "code",
   "execution_count": 129,
   "metadata": {},
   "outputs": [
    {
     "name": "stdout",
     "output_type": "stream",
     "text": [
      "<class 'pandas.core.frame.DataFrame'>\n",
      "RangeIndex: 5526 entries, 0 to 5525\n",
      "Data columns (total 4 columns):\n",
      "url         5526 non-null object\n",
      "label       5526 non-null object\n",
      "corpus      5479 non-null object\n",
      "dateTime    5526 non-null object\n",
      "dtypes: object(4)\n",
      "memory usage: 172.8+ KB\n"
     ]
    }
   ],
   "source": [
    "df_cleaned.info()"
   ]
  },
  {
   "cell_type": "code",
   "execution_count": 130,
   "metadata": {},
   "outputs": [],
   "source": [
    "df_cleaned.dropna(inplace=True)"
   ]
  },
  {
   "cell_type": "code",
   "execution_count": 131,
   "metadata": {},
   "outputs": [
    {
     "name": "stdout",
     "output_type": "stream",
     "text": [
      "<class 'pandas.core.frame.DataFrame'>\n",
      "Int64Index: 5479 entries, 0 to 5525\n",
      "Data columns (total 4 columns):\n",
      "url         5479 non-null object\n",
      "label       5479 non-null object\n",
      "corpus      5479 non-null object\n",
      "dateTime    5479 non-null object\n",
      "dtypes: object(4)\n",
      "memory usage: 214.0+ KB\n"
     ]
    }
   ],
   "source": [
    "df_cleaned.info()"
   ]
  },
  {
   "cell_type": "code",
   "execution_count": 126,
   "metadata": {},
   "outputs": [
    {
     "data": {
      "text/plain": [
       "'           [if !mso]> <style> v\\\\:* {behavior:url(#default#VML);} o\\\\:* {behavior:url(#default#VML);} w\\\\:* {behavior:url(#default#VML);} .shape {behavior:url(#default#VML);} </style> <![endif] ffiction         [if gte mso 9]><xml>  <o:DocumentProperties>   <o:Author>Melissa Good</o:Author>   <o:Template>Normal</o:Templ   <o:LastAuthor>Melissa Good</o:LastAuthor>   <o:Revision>4</o:Revision>   <o:TotalTime>27</o:TotalTime>   <o:Created>2005-06-05T22:15:00Z</o:Created>   <o:LastSaved>2005-11-10T01:05:00Z</o:LastSaved>   <o:Pages>1</o:Pages>   <o:Words>3934</o:Words>   <o:Characters>22429</o:Characters>   <o:Company>Tales of the South</o:Company>   <o:Lines>186</o:Lines>   <o:Paragraphs>52</o:Paragraphs>   <o:CharactersWithSpaces>26311</o:CharactersWithSpaces>   <o:Version>11.6360</o:Version>  </o:DocumentProperties>  <o:OfficeDocumentSettings>   <o:AllowPNG/>  </o:OfficeDocumentSettings> </xml><![endif] [if gte mso 9]><xml>  <w:WordDocument>   <w:Zoom>150</w:Zoom>   <w:SpellingState>Clean</w:SpellingState>   <w:GrammarState>Clean</w:GrammarState>   <w:ValidateAgainstSchemas/>   <w:SaveIfXMLInvalid>false</w:SaveIfXMLInvalid>   <w:IgnoreMixedContent>false</w:IgnoreMixedContent>   <w:AlwaysShowPlaceholderText>false</w:AlwaysShowPlaceholderText>   <w:BrowserLevel>MicrosoftInternetExplorer4</w:BrowserLevel>  </w:WordDocument> </xml><![endif] [if gte mso 9]><xml>  <w:LatentStyles DefLockedState=\"false\" LatentStyleCount=\"156\">  </w:LatentStyles> </xml><![endif] [if !mso]><object  classid=\"clsid:38481807-CA0E-42D2-BF39-B33AF135CC4D\" id=ieooui></object> <style> st1\\\\:*{behavior:url(#ieooui) } </style> <![endif]   [if gte mso 10]> <style>  /* Style Definitions */  table.MsoNormalTable \\t{mso-style-name:\"Table Normal\"; \\tmso-tstyle-rowband-size:0; \\tmso-tstyle-colband-size:0; \\tmso-style-noshow:yes; \\tmso-style-parent:\"\"; \\tmso-padding-alt:0in 5.4pt 0in 5.4pt; \\tmso-para-margin:0in; \\tmso-para-margin-bottom:.0001pt; \\tmso-pagination:widow-orphan; \\tfont-size:10.0pt; \\tfont-family:\"Times New Roman\"; \\tmso-ansi-language:#0400; \\tmso-fareast-language:#0400; \\tmso-bidi-language:#0400;} </style> <![endif]     [if gte mso 9]><xml>  <o:shapedefaults v:ext=\"edit\" spidmax=\"2050\"/> </xml><![endif] [if gte mso 9]><xml>  <o:shapelayout v:ext=\"edit\">   <o:idmap v:ext=\"edit\" data=\"1\"/>  </o:shapelayout></xml><![endif]     Merwolf\\'s  Fan Fiction   \\xa0                                             [if gte vml 1]><v:shapetype  id=\"_x0000_t75\" coordsize=\"21600,21600\" o:spt=\"75\" o:preferrelative=\"t\"  path=\"m@4@5l@4@11@9@11@9@5xe\" filled=\"f\" stroked=\"f\">  <v:stroke joinstyle=\"miter\"/>  <v:formulas>   <v:f eqn=\"if lineDrawn pixelLineWidth 0\"/>   <v:f eqn=\"sum @0 1 0\"/>   <v:f eqn=\"sum 0 0 @1\"/>   <v:f eqn=\"prod @2 1 2\"/>   <v:f eqn=\"prod @3 21600 pixelWidth\"/>   <v:f eqn=\"prod @3 21600 pixelHeight\"/>   <v:f eqn=\"sum @0 0 1\"/>   <v:f eqn=\"prod @6 1 2\"/>   <v:f eqn=\"prod @7 21600 pixelWidth\"/>   <v:f eqn=\"sum @8 21600 0\"/>   <v:f eqn=\"prod @7 21600 pixelHeight\"/>   <v:f eqn=\"sum @10 21600 0\"/>  </v:formulas>  <v:path o:extrusionok=\"f\" gradientshapeok=\"t\" o:connecttype=\"rect\"/>  <o:lock v:ext=\"edit\" aspectratio=\"t\"/> </v:shapetype><v:shape id=\"_x0000_i1025\" type=\"#_x0000_t75\" style=\\'width:6in;  height:3.45pt\\' o:hrpct=\"0\" o:hralign=\"center\" o:hr=\"t\">  <v:imagedata src=\"ffiction_files/image001.gif\" o:title=\"Colorful Stone Stripe\"/> </v:shape><![endif] [if !vml] [endif]   [if gte vml 1]><v:shape id=\"_x0000_i1026\"  type=\"#_x0000_t75\" style=\\'width:336.6pt;height:236.4pt\\'>  <v:imagedata src=\"ffiction_files/image003.jpg\" o:title=\"fox\"/> </v:shape><![endif] [if !vml] [endif]             Xena/Gabrielle Fanfiction           [if gte vml 1]><v:shape  id=\"_x0000_i1027\" type=\"#_x0000_t75\" style=\\'width:431.95pt;height:16.7pt\\'  o:hrpct=\"0\" o:hralign=\"center\" o:hr=\"t\">  <v:imagedata src=\"ffiction_files/image005.gif\" o:title=\"Autumn Leaves\"/> </v:shape><![endif] [if !vml] [endif]   A Warrior  By  Any Other Name   Xena and Gabrielle make a new friend who leads them down a  very  unexpected path.    |   |   |    \\xa0 - A short story of how Xena andGabrielle might have spent their first Solstice together.    [if gte vml 1]><v:shape  id=\"_x0000_i1028\" type=\"#_x0000_t75\" style=\\'width:431.95pt;height:16.7pt\\'  o:hrpct=\"0\" o:hralign=\"center\" o:hr=\"t\">  <v:imagedata src=\"ffiction_files/image005.gif\" o:title=\"Autumn Leaves\"/> </v:shape><![endif] [if !vml] [endif]   Ata Distance   Gabrielle is recalled to the Amazons, while  Xena  decides to spend some time at home. The separation proves... illuminating.    |   |   |   |   |    [if gte vml 1]><v:shape  id=\"_x0000_i1029\" type=\"#_x0000_t75\" style=\\'width:431.95pt;height:16.7pt\\'  o:hrpct=\"0\" o:hralign=\"center\" o:hr=\"t\">  <v:imagedata src=\"ffiction_files/image005.gif\" o:title=\"Autumn Leaves\"/> </v:shape><![endif] [if !vml] [endif]   Homeis  Where the Heart Is   Gabrielle\\'s father sends for her -but all\\'s not what it seems in Potadeia, and Xena decides to find out why.    |   |   |    [if gte vml 1]><v:shape  id=\"_x0000_i1030\" type=\"#_x0000_t75\" style=\\'width:431.95pt;height:16.7pt\\'  o:hrpct=\"0\" o:hralign=\"center\" o:hr=\"t\">  <v:imagedata src=\"ffiction_files/image005.gif\" o:title=\"Autumn Leaves\"/> </v:shape><![endif] [if !vml] [endif]   Bound   Xena  and Gabrielle decide to pay their friend  Jessan  a visit, but as usual, unexpected things seem to happen.     |   |   |   |   |   |   |  |   |    [if gte vml 1]><v:shape  id=\"_x0000_i1031\" type=\"#_x0000_t75\" style=\\'width:431.95pt;height:16.7pt\\'  o:hrpct=\"0\" o:hralign=\"center\" o:hr=\"t\">  <v:imagedata src=\"ffiction_files/image005.gif\" o:title=\"Autumn Leaves\"/> </v:shape><![endif] [if !vml] [endif]   Winter\\'s Ending   Home at last, Xena and Gabrielle find that trouble follows them even there, as Amazons, Hercules, and some  very  unexpected guests liven up their wint er.    |   |   |   |   |   |   |    [if gte vml 1]><v:shape  id=\"_x0000_i1032\" type=\"#_x0000_t75\" style=\\'width:431.95pt;height:16.7pt\\'  o:hrpct=\"0\" o:hralign=\"center\" o:hr=\"t\">  <v:imagedata src=\"ffiction_files/image005.gif\" o:title=\"Autumn Leaves\"/> </v:shape><![endif] [if !vml] [endif]   The Longest Night   Friends and relations gather in  Amphipolis  to celebrate the Winter Solstice, and a long-awaited joining.    |   |   |   |   |   |   |    [if gte vml 1]><v:shape  id=\"_x0000_i1033\" type=\"#_x0000_t75\" style=\\'width:431.95pt;height:16.7pt\\'  o:hrpct=\"0\" o:hralign=\"center\" o:hr=\"t\">  <v:imagedata src=\"ffiction_files/image005.gif\" o:title=\"Autumn Leaves\"/> </v:shape><![endif] [if !vml] [endif]   Reflections from the Past   Xena and Gabrielle while away the long winter  days translating a set of old scrolls  that hold a story strangely familiar to them.    |   |   |   |    [if gte vml 1]><v:shape  id=\"_x0000_i1034\" type=\"#_x0000_t75\" style=\\'width:431.95pt;height:16.7pt\\'  o:hrpct=\"0\" o:hralign=\"center\" o:hr=\"t\">  <v:imagedata src=\"ffiction_files/image005.gif\" o:title=\"Autumn Leaves\"/> </v:shape><![endif] [if !vml] [endif]   Darkness  Falls   The Rift behind them, Xena andGabrielle start down the long road to reconciliation as they rebuild their lives.    |   |   |   |   |    [if gte vml 1]><v:shape  id=\"_x0000_i1035\" type=\"#_x0000_t75\" style=\\'width:431.95pt;height:16.7pt\\'  o:hrpct=\"0\" o:hralign=\"center\" o:hr=\"t\">  <v:imagedata src=\"ffiction_files/image005.gif\" o:title=\"Autumn Leaves\"/> </v:shape><![endif] [if !vml] [endif]   Leap of Faith   A delayed trading caravan draws  Xena  and Gabrielle\\'s attention, with results neither of them expected.   | | | | | |  |   [if gte vml 1]><v:shape  id=\"_x0000_i1036\" type=\"#_x0000_t75\" style=\\'width:431.95pt;height:16.7pt\\'  o:hrpct=\"0\" o:hralign=\"center\" o:hr=\"t\">  <v:imagedata src=\"ffiction_files/image005.gif\" o:title=\"Autumn Leaves\"/> </v:shape><![endif] [if !vml] [endif]   Promises Kept   Back on the road again,  Xena  and Gabrielle find that trouble is not about to leave them alone, as  Xena   recieves  a summons from an old comrade at arms, reminding her of a favor owed.    |   |   |   |   |   |    [if gte vml 1]><v:shape  id=\"_x0000_i1037\" type=\"#_x0000_t75\" style=\\'width:431.95pt;height:16.7pt\\'  o:hrpct=\"0\" o:hralign=\"center\" o:hr=\"t\">  <v:imagedata src=\"ffiction_files/image005.gif\" o:title=\"Autumn Leaves\"/> </v:shape><![endif] [if !vml] [endif]   Festival   Xena  and Gabrielle head forAmazon Country, to join them for the festival of Dionysus. It\\'s supposed to be a nice, peaceful interlude, but as you know, Amazons + Gabrielle = TROUBLE.    |   |   |   |   |   |   |   |   |   |    [if gte vml 1]><v:shape  id=\"_x0000_i1038\" type=\"#_x0000_t75\" style=\\'width:431.95pt;height:16.7pt\\'  o:hrpct=\"0\" o:hralign=\"center\" o:hr=\"t\">  <v:imagedata src=\"ffiction_files/image005.gif\" o:title=\"Autumn Leaves\"/> </v:shape><![endif] [if !vml] [endif]   Circleof  Life   After the bard\\'s close call with Death, Gabrielle and Xena settle down at home in Amphipolis to await the birth of their child. But things never go quite as planned, and when Amazons,forest dwellers, and enemies are involved...    |  |  |  |  |    [if gte vml 1]><v:shape  id=\"_x0000_i1039\" type=\"#_x0000_t75\" style=\\'width:431.95pt;height:16.7pt\\'  o:hrpct=\"0\" o:hralign=\"center\" o:hr=\"t\">  <v:imagedata src=\"ffiction_files/image005.gif\" o:title=\"Autumn Leaves\"/> </v:shape><![endif] [if !vml] [endif]   Dark Comes the Morning   Xena and Gabrielle have settled contentedly in Amphipolis, and are enjoying their new baby daughter, Doriana.     Or are they? Life is, as Gabrielle well knows, a series of trade offs. To achieve one thing, you often have to give up something else.     |   |   |   |   |   |   |   |  |  |  |    |  |  |  |  |  |  |  |  |  |  |  |  |   |   [if gte vml 1]><v:shape  id=\"_x0000_i1040\" type=\"#_x0000_t75\" style=\\'width:431.95pt;height:16.7pt\\'  o:hrpct=\"0\" o:hralign=\"center\" o:hr=\"t\">  <v:imagedata src=\"ffiction_files/image005.gif\" o:title=\"Autumn Leaves\"/> </v:shape><![endif] [if !vml] [endif]   A Matter of Pride   Amphipolis has grown into a bustling trading center, with an increasing population and the troubles that come with success. One thing they don\\'t have to worry about though, is being attacked. Everyone knows the Protector of Amphipolis, and no one wants to mess with her for a minute.   Except her baby daughter, and a certain bard.     Xena and Gabrielle decide to take a trip to Athens, to register Amphipolis\\' concerns and have a little fun watching the pageantry and glamour of the Olympic Games. However, nothing is ever simple when Xena\\'s involved, and soon the real fun begins.     |   |   |   |   |   |   |   |   |   |   |   |   |   (END)   [if gte vml 1]><v:shape  id=\"_x0000_i1041\" type=\"#_x0000_t75\" style=\\'width:431.95pt;height:16.7pt\\'  o:hrpct=\"0\" o:hralign=\"center\" o:hr=\"t\">  <v:imagedata src=\"ffiction_files/image005.gif\" o:title=\"Autumn Leaves\"/> </v:shape><![endif] [if !vml] [endif]   Champion   On the way home from  Athens ,  Xena , Gabrielle, and their daughter Dori find themselves caught up in the lives of their old friends the forest dwellers. Xena has been summoned to take up the mantle of tribal champion, a title she won in a time before her world, and  GabrielleÂ’s  so radically changed. Can she live up to the reputation that title demands?      |   |  |  |   |   |   |   |   |   |     |   |  |   (End)    Â– a short story of  Xena , Gabrielle, and Dori on the road home.   [if gte vml 1]><v:shape  id=\"_x0000_i1042\" type=\"#_x0000_t75\" style=\\'width:431.95pt;height:16.7pt\\'  o:hrpct=\"0\" o:hralign=\"center\" o:hr=\"t\">  <v:imagedata src=\"ffiction_files/image005.gif\" o:title=\"Autumn Leaves\"/> </v:shape><![endif] [if !vml] [endif]   One Wild Ride   Xena  and Gabrielle are home inAmphipolis at last. Things have changed, and not all for the better, but before they have an opportunity to straighten it all out, the spring thaws threaten the new city they find on their return and Xena and Gabrielle find themselves on a wild ride into danger that promises an even more dangerous way back home.    |   |   |   |   |   |   |   |   |   |   |   |    |   |   |   |   |   |   |   |   |   |   |   |   |   (End)    [if gte vml 1]><v:shape  id=\"_x0000_i1043\" type=\"#_x0000_t75\" style=\\'width:431.95pt;height:16.7pt\\'  o:hrpct=\"0\" o:hralign=\"center\" o:hr=\"t\">  <v:imagedata src=\"ffiction_files/image005.gif\" o:title=\"Autumn Leaves\"/> </v:shape><![endif] [if !vml] [endif]   A Queen\\'s Tale   Xena  and Gabrielle have eased back into life at home after their last harrowing adventure. Gabrielle has taken over running the Amazons, the Amazons have settled into their new home, and Xena\\'s just chilling out and practicing her swordsmanship as she keeps an eye on little Dori. But as usual, the Fates are never content to leave them alone and soon enough trouble comes banging on the door and once again they have to decide whether to answer it, or this time, escape out the back window.    |   |   |   |   |   |   |   |   |   |   |   |   |   |   |   |   |   |   |   |   |   |   |   |   |   |   |   |   |   |   |    \\xa0   [if gte vml 1]><v:shape  id=\"_x0000_i1043\" type=\"#_x0000_t75\" style=\\'width:431.95pt;height:16.7pt\\'  o:hrpct=\"0\" o:hralign=\"center\" o:hr=\"t\">  <v:imagedata src=\"ffiction_files/image005.gif\" o:title=\"Autumn Leaves\"/> </v:shape><![endif] [if !vml] [endif]   Body, Heart and Soul   Xena  and Gabrielle have gotten used to the changes in their lives after their return from stopping the war between Athens and Sparta.  Xena has started to expand her army and look for new allies in Thrace and Gabrielle is busy running her Amazon tribe while Ephiny gestates. Things are looking up - right?     |   |   |    |   |   |   |   |   |   |   |   |   |   |   |    |   |   |   |   |   |   |    [if gte vml 1]><v:shape  id=\"_x0000_i1043\" type=\"#_x0000_t75\" style=\\'width:431.95pt;height:16.7pt\\'  o:hrpct=\"0\" o:hralign=\"center\" o:hr=\"t\">  <v:imagedata src=\"ffiction_files/image005.gif\" o:title=\"Autumn Leaves\"/> </v:shape><![endif] [if !vml] [endif]   A Change of Seasons   Xena  and Gabrielle are enjoying springtime after their long winter and the struggles that surrounded it. Everything is going along great - crops are growing, animals are reproducing, merchants are coming to their festival party. No sign of the gods, no sign of trouble.  So why are they both so nervous?    |   |   |   |   |   |   |   |   |   |   |   |   |   |   |   |   |               the Merciless Tales           For years now, Lunacy has been after me to write a Conqueror story.\\xa0 I never was that fond of  Armegeddon  Now, but Lunacy lives in  Miami , and knows where my house is. So Â– as a compromise, I decided to write a sorta kinda conqueror type story and here it is.    Shadows of the Soul   |   |  |  |   |   |   |   |   |   |   |   |   |   |   |     |   |   |   |    [if gte vml 1]><v:shape  id=\"_x0000_i1044\" type=\"#_x0000_t75\" style=\\'width:431.9pt;height:24.5pt\\'  o:hrpct=\"0\" o:hralign=\"center\" o:hr=\"t\">  <v:imagedata src=\"ffiction_files/image009.gif\" o:title=\"Row of Pebbles\"/> </v:shape><![endif] [if !vml] [endif]   Queen of Hearts   Xena  the Merciless finds herself dealing with an avalanche of change in her kingdom since she settled down and named an heir. But just when things look like theyÂ’re getting boring, a stranger from the East comes to challenge XenaÂ’s throne and offer her a choice she no longer finds possible to make.    |   |  |  |   |   |   |   |   |   |   |   |   |   |   |     |   |   |   |   |   |   |   |   |   |   |   |   |(END)     [if gte vml 1]><v:shape  id=\"_x0000_i1044\" type=\"#_x0000_t75\" style=\\'width:431.9pt;height:24.5pt\\'  o:hrpct=\"0\" o:hralign=\"center\" o:hr=\"t\">  <v:imagedata src=\"ffiction_files/image009.gif\" o:title=\"Row of Pebbles\"/> </v:shape><![endif] [if !vml] [endif]   A Queen for all Seasons   Xena  the Merciless feels like her world is finally settling down into something she might even start to enjoy.  The summer harvest was good, people are showing up for her Harvest Festival, and Gabrielle has traded some storytelling to a Persian prisoner for some tips on massage. The only clouds on her horizon besides the usual winter storms was that message she sent to the King of Persia along with his daughter\\'s head.  What, really, could go wrong?     |   |   |   |   |    |   |   |   |   |   |    |   |    [if gte vml 1]><v:shape  id=\"_x0000_i1044\" type=\"#_x0000_t75\" style=\\'width:431.9pt;height:24.5pt\\'  o:hrpct=\"0\" o:hralign=\"center\" o:hr=\"t\">  <v:imagedata src=\"ffiction_files/image009.gif\" o:title=\"Row of Pebbles\"/> </v:shape><![endif] [if !vml] [endif]         A Story of Humanity:  The Jess and Dev Tales             This  is a new story line that occured to me while giving out candy to kids on Halloween.  Could have been the overcast sky that night, but at any rate, this is the first SciFi tale folks have seen on these pages - we will see how long it goes, or if it continues.     |   |   |   |   |   |   |   |   |   |   |   |   |   |   |    |    |   |   |   |    |   |   |   |   |   |   |   |   |   |   |   |   |   |    |   |   |    |   |   |   |    |   |   END   [if gte vml 1]><v:shape  id=\"_x0000_i1044\" type=\"#_x0000_t75\" style=\\'width:431.9pt;height:24.5pt\\'  o:hrpct=\"0\" o:hralign=\"center\" o:hr=\"t\">  <v:imagedata src=\"ffiction_files/image009.gif\" o:title=\"Row of Pebbles\"/> </v:shape><![endif] [if !vml] [endif]     Jess and Dev\\'s  continuing adventures as Jess deals with the consequences of her fathers plans, and Dev faces the thing she fears the most. Will their partnership turn out to be their greatest strength or greatest weakness?     |   |   |   |   |   |   |    |   |   |   |   |   |   |   |   |      [if gte vml 1]><v:shape  id=\"_x0000_i1044\" type=\"#_x0000_t75\" style=\\'width:431.9pt;height:24.5pt\\'  o:hrpct=\"0\" o:hralign=\"center\" o:hr=\"t\">  <v:imagedata src=\"ffiction_files/image009.gif\" o:title=\"Row of Pebbles\"/> </v:shape><![endif] [if !vml] [endif]       \\xa0           [if gte vml 1]><v:shape  id=\"_x0000_i1045\" type=\"#_x0000_t75\" style=\\'width:6in;height:3.45pt\\' o:hrpct=\"0\"  o:hralign=\"center\" o:hr=\"t\">  <v:imagedata src=\"ffiction_files/image001.gif\" o:title=\"Colorful Stone Stripe\"/> </v:shape><![endif] [if !vml] [endif]   [if gte vml 1]><v:shape  id=\"_x0000_i1046\" type=\"#_x0000_t75\" style=\\'width:325.2pt;height:243.6pt\\'>  <v:imagedata src=\"ffiction_files/image011.jpg\" o:title=\"sunsea2\"/> </v:shape><![endif] [if !vml] [endif]   [if gte vml 1]><v:shape  id=\"_x0000_i1047\" type=\"#_x0000_t75\" style=\\'width:6in;height:3.45pt\\' o:hrpct=\"0\"  o:hralign=\"center\" o:hr=\"t\">  <v:imagedata src=\"ffiction_files/image001.gif\" o:title=\"Colorful Stone Stripe\"/> </v:shape><![endif] [if !vml] [endif]   Tropical Storm   This is an Uber-Xena Fiction. That means, no Xena, no Gabrielle. It\\'s just about two people, whose lives collide in contemporary Miami, and how they cope with that. This is not \\'in place\\' of my next X and G story, btw.. it\\'s a filler while I\\'m waiting for more of the4th season to air. The printed version has all the names right. (g)    |   |   |   |   |   |  |   |   |   |   |   |   |   |   |      This book is in print published by Regal Crest Publishing if you\\'Â’d like a copy of the printed version (there are differences from the online one) you can order it at the following locations: -        [if gte vml 1]><v:shape  id=\"_x0000_i1048\" type=\"#_x0000_t75\" style=\\'width:6in;height:3.45pt\\' o:hrpct=\"0\"  o:hralign=\"center\" o:hr=\"t\">  <v:imagedata src=\"ffiction_files/image001.gif\" o:title=\"Colorful Stone Stripe\"/> </v:shape><![endif] [if !vml] [endif]   Short Stories   - A short Christmas Visit with Dar and Kerry    - A short vignette with Dar and Kerry, and some jewelry     Â– A visit with Dar and Kerry very early in their relationship.   Â… Dar and Kerry get a visit from some very old friends.    Â– a short tale ofValentines Day, Dar and Kerry style.   Â– Dar and Kerry celebrate the new year in typical style. \\xa0   Â– Andrew goes home for his sister\\'s wedding and finds more than he bargained for. \\xa0   Â– Dar and Kerry invite Kerry\\'s family to visit after the stress of Storm Surge. \\xa0   Â– Xena the Merciless and her consort Gabrielle debate celebration. \\xa0   [if gte vml 1]><v:shape  id=\"_x0000_i1049\" type=\"#_x0000_t75\" style=\\'width:6in;height:3.45pt\\' o:hrpct=\"0\"  o:hralign=\"center\" o:hr=\"t\">  <v:imagedata src=\"ffiction_files/image001.gif\" o:title=\"Colorful Stone Stripe\"/> </v:shape><![endif] [if !vml] [endif]   Hurricane Watch   Well, that was a long break.(laugh) Dar and Kerry are back. This is a sequel to Tropical Storm - and is setin more or less the same time period. It\\'s the end of January, and things arenot going smoothly for our uber friends at work. Dar and Kerry are trying to balance the stresses of their common workplace, with building a life with each other in their off hours. That\\'s not easy, and just when they start getting things in order... well, that\\'s what the story\\'s about.     |   |   |   |   |   |   |   |   |    This book is in print published by Regal Crest Publishing Â–  if  youÂ’d like a copy of the printed version (there are differences from the online one) you can order it at the following locations: -        [if gte vml 1]><v:shape  id=\"_x0000_i1050\" type=\"#_x0000_t75\" style=\\'width:6in;height:3.45pt\\' o:hrpct=\"0\"  o:hralign=\"center\" o:hr=\"t\">  <v:imagedata src=\"ffiction_files/image001.gif\" o:title=\"Colorful Stone Stripe\"/> </v:shape><![endif] [if !vml] [endif]   Eye of the Storm   Yep.. Dar and Kerry are back.It\\'s been a few months, and things are settling down. Or are they? No matter what, life around these guys is never boring. More corporate intrigue, and personal discoveries ahead as Dar finally has to deal with issues long buried, and Kerry faces the consequences of her own actions.   | |   |  |   |   |   |   |     |  |    This book is in print Â–published by Regal Crest Publishing Â–if you\\'Â’d like a copy of the printed version (there are differences from the online one) you can order it at the following locations -        [if gte vml 1]><v:shape  id=\"_x0000_i1051\" type=\"#_x0000_t75\" style=\\'width:6in;height:3.45pt\\' o:hrpct=\"0\"  o:hralign=\"center\" o:hr=\"t\">  <v:imagedata src=\"ffiction_files/image001.gif\" o:title=\"Colorful Stone Stripe\"/> </v:shape><![endif] [if !vml] [endif]   Tropical High   Dar and Kerry find life getting ever more complex as Dar gets involved in an investigation of the military, and Kerry takes on new challenges at work. Old memories flare up, and Dar questions youthful choices as her past causes Kerry problems in the present.     |   | | | | | |  |  |  |  | |     This book is in print published by Regal Crest Publishing Â–as two stories, Red Sky at Morning, and Thicker than Blood if you\\'Â’d like a copy of these printed versions (there are differences from the online one) you can order it at the following locations:        [if gte vml 1]><v:shape  id=\"_x0000_i1052\" type=\"#_x0000_t75\" style=\\'width:6in;height:3.45pt\\' o:hrpct=\"0\"  o:hralign=\"center\" o:hr=\"t\">  <v:imagedata src=\"ffiction_files/image001.gif\" o:title=\"Colorful Stone Stripe\"/> </v:shape><![endif] [if !vml] [endif]   Terrors of the High Seas   Dar and Kerry finally take sometime off to just kick back, relax, and give Kerry some time to recover from the death of her father. What could be more peaceful than a little boat trip acrossthe Caribbean?     |   |   |   |   |   |   |   | |  |  )   This book is in print published by Regal Crest Publishing if youÂ’d like a copy of the printed version (there are differences from the online one) you can order it at the following locations -        [if gte vml 1]><v:shape  id=\"_x0000_i1053\" type=\"#_x0000_t75\" style=\\'width:6in;height:3.45pt\\' o:hrpct=\"0\"  o:hralign=\"center\" o:hr=\"t\">  <v:imagedata src=\"ffiction_files/image001.gif\" o:title=\"Colorful Stone Stripe\"/> </v:shape><![endif] [if !vml] [endif]   Moving Target   While attending a high technology show, Dar and Kerry are approached by an aggressive entrepreneur who owns the onlyAmerican based cruise line. He challenges them to compete with an old archrival on a contract to network his ships and gain a foothold in a new industry.Question is Â– are they ready to compromise their standards to win?    |   |   |   |   |   |   |   |   |   |   |   |   |   |     |   |   |   |   |   |   |   |   |  |   |   |   |     |   |   |   (End)    Part one of this book is in print published by Regal Crest Publishing as Tropical Convergence if you\\'Â’d like a copy of the printed version (there are differences from the online one) you can order it at the following locations - Part 2 is being edited for publication.        [if gte vml 1]><v:shape  id=\"_x0000_i1053\" type=\"#_x0000_t75\" style=\\'width:6in;height:3.45pt\\' o:hrpct=\"0\"  o:hralign=\"center\" o:hr=\"t\">  <v:imagedata src=\"ffiction_files/image001.gif\" o:title=\"Colorful Stone Stripe\"/> </v:shape><![endif] [if !vml] [endif]   Storm Surge   Life has settled down to some unusual peace and quiet for Dar and Kerry after their escapades at sea. Dar is moving forward with new international business, and Kerry is busy designing new ways of doing things. Finally, it seems that they have work, and their home lives in balance and they are ready to take on new challenges and have some fun. But life has a way of throwing a twist at you when you least expect it and the challenges turn into an experience neither of them will ever forget.    |   |   |   |   |   |   |   |   |   |   |   |   |   |   |   |   |   |   |   |   |   |   |    This story has been published by Regal Crest Publishing in two parts. Â–  if  youÂ’d like a copy of the printed version -please go to       [if gte vml 1]><v:shape  id=\"_x0000_i1053\" type=\"#_x0000_t75\" style=\\'width:6in;height:3.45pt\\' o:hrpct=\"0\"  o:hralign=\"center\" o:hr=\"t\">  <v:imagedata src=\"ffiction_files/image001.gif\" o:title=\"Colorful Stone Stripe\"/> </v:shape><![endif] [if !vml] [endif]   Winds of Change   Dar and Kerry have their plans set, to retire from ILS and start their own consulting business, after they take some time off to travel. But fate never seems to like this much pre-planning in their lives and soon they are facing more questions than answers when it comes to the future. .    |   |   |   |   |   |   |   |   |   |   |   |   |   |   |   |   |      |          [endif]   Southern Stars   At last, Dar and Kerry get to go on their long awaited and anticipated vacation on in the Grand Canyon. They are looking forward to computer free time, beautiful scenery, and white water rapids. But as always, life doesn\\'t always go smoothly and soon challenges are at hand. .    |   |   |   |   |   |    |   |   |   |        [endif]   Fair winds and Following Seas   Dar and Kerry find their new business, and life, as always full of challenges from storms to running out of space to finding a new home. But as always, they get through it all with love and the support of their friends and family .    |   |   |   |   |  |   |   |     |   |   |   |   |   |   |   |    |    \\xa0   \\xa0   \\xa0   For zipped or MS WORD 97 versions of Merwolf\\'s fiction please visit           |'"
      ]
     },
     "execution_count": 126,
     "metadata": {},
     "output_type": "execute_result"
    }
   ],
   "source": [
    "df_cleaned['corpus'][3620]"
   ]
  },
  {
   "cell_type": "code",
   "execution_count": null,
   "metadata": {},
   "outputs": [],
   "source": []
  }
 ],
 "metadata": {
  "kernelspec": {
   "display_name": "Python 3",
   "language": "python",
   "name": "python3"
  },
  "language_info": {
   "codemirror_mode": {
    "name": "ipython",
    "version": 3
   },
   "file_extension": ".py",
   "mimetype": "text/x-python",
   "name": "python",
   "nbconvert_exporter": "python",
   "pygments_lexer": "ipython3",
   "version": "3.7.1"
  }
 },
 "nbformat": 4,
 "nbformat_minor": 2
}
